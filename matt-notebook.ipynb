{
 "cells": [
  {
   "cell_type": "code",
   "execution_count": 2,
   "metadata": {},
   "outputs": [],
   "source": [
    "import pandas as pd"
   ]
  },
  {
   "cell_type": "code",
   "execution_count": 3,
   "metadata": {},
   "outputs": [
    {
     "name": "stdout",
     "output_type": "stream",
     "text": [
      "bom.movie_gross.csv  title.akas.csv\t   title.ratings.csv\n",
      "name.basics.csv      title.basics.csv\t   tmdb.movies.csv\n",
      "rt.movie_info.tsv    title.crew.csv\t   tn.movie_budgets.csv\n",
      "rt.reviews.tsv\t     title.principals.csv\n"
     ]
    }
   ],
   "source": [
    "!ls data"
   ]
  },
  {
   "cell_type": "code",
   "execution_count": 52,
   "metadata": {},
   "outputs": [],
   "source": [
    "# Title, Studio, Domestic Gross, Foreign Gross, Year\n",
    "movie_gross_df = pd.read_csv('data/bom.movie_gross.csv')\n",
    "\n",
    "# Name variable (nconst), Name of Crew/Principal, Primary Profession, Known for Titles (tconst)\n",
    "people_info_df = pd.read_csv('data/name.basics.csv')\n",
    "\n",
    "# ID, Rating, Genre, Director, Writer, Theater Date, Box Office, Runtime, Studio\n",
    "rt_movie_info_df = pd.read_csv('data/rt.movie_info.tsv', delimiter='\\t')\n",
    "\n",
    "# ID, Rating, Fresh, Top Critic\n",
    "rt_movie_reviews_df = pd.read_csv('data/rt.reviews.tsv', delimiter='\\t', encoding='latin1')\n",
    "\n",
    "# Title ID, Title, Region, Language\n",
    "title_akas_df = pd.read_csv('data/title.akas.csv')\n",
    "\n",
    "# Title ID (tconst), Primary Title, Original Title, Year, Runtime, Genres\n",
    "title_basics_df = pd.read_csv('data/title.basics.csv')\n",
    "\n",
    "# Title ID (tconst), Directors (nconst), Writers (nconst)\n",
    "title_crew_df = pd.read_csv('data/title.crew.csv')\n",
    "\n",
    "# Title ID (tconst), People (nconst), Category (primary profession)\n",
    "title_principals_df = pd.read_csv('data/title.principals.csv')\n",
    "\n",
    "# Titled ID (tconst), Rating, Num Votes\n",
    "title_ratings_df = pd.read_csv('data/title.ratings.csv')\n",
    "\n",
    "# Genre, Language, Original Title, Popularity, Date, Title, Average Rating, Num of Ratings\n",
    "tmdb_movies_df = pd.read_csv('data/tmdb.movies.csv')\n",
    "\n",
    "# Release Date, Title, Budget, Domestic Gross, Worldwide Gross\n",
    "movie_budgets_df = pd.read_csv('data/tn.movie_budgets.csv')"
   ]
  },
  {
   "cell_type": "code",
   "execution_count": null,
   "metadata": {},
   "outputs": [],
   "source": []
  }
 ],
 "metadata": {
  "kernelspec": {
   "display_name": "Python (learn-env)",
   "language": "python",
   "name": "learn-env"
  },
  "language_info": {
   "codemirror_mode": {
    "name": "ipython",
    "version": 3
   },
   "file_extension": ".py",
   "mimetype": "text/x-python",
   "name": "python",
   "nbconvert_exporter": "python",
   "pygments_lexer": "ipython3",
   "version": "3.8.5"
  }
 },
 "nbformat": 4,
 "nbformat_minor": 4
}
