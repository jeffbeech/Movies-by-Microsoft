{
 "cells": [
  {
   "cell_type": "markdown",
   "metadata": {},
   "source": [
    "# Microsoft Movie Studios\n",
    "\n",
    "**Author:** Team 5\n",
    "***"
   ]
  },
  {
   "attachments": {
    "director_shot.jpeg": {
     "image/jpeg": "[encoded data removed]"
    }
   },
   "cell_type": "markdown",
   "metadata": {},
   "source": [
    "![director_shot.jpeg](attachment:director_shot.jpeg)"
   ]
  },
  {
   "cell_type": "markdown",
   "metadata": {},
   "source": [
    "## Overview\n",
    "\n",
    "This project analyzes the creative needs of <a href=\"http://www.microsoft.com\">Microsoft</a>, an expansive computer software and hardware manufacturer.  Microsoft has made a strategic decision to create a new movie studio. Analysis of popular film genres and financial data from the Internet Movie Database <a href=\"http://www.imdb.com/interfaces/\">(IMDb)</a> and Box Office Mojo <a href=\"http://www.boxofficemojo.com/\"> (BOM)</a> clearly shows that top grossing films are centered around a few film types.  Additionaly, one studio group stands out as the creative leader in these genres.  Microsoft can use this analysis to set visioning, hiring practices, property acqusition and advertising for their initial resource allocation."
   ]
  },
  {
   "cell_type": "markdown",
   "metadata": {},
   "source": [
    "## Business Problem\n",
    "\n",
    "Microsoft has decided to expand its considerable expertise into the area of producing feature films.  As a new entry into this competitive and creative arena, they need an analysis of the types of films that are doing best at the box office.  Using data from the Internet Movie Database <a href=\"http://www.imdb.com/interfaces/\">(IMDb)</a>  and Box Office Mojo<a href=\"http://www.boxofficemojo.com/\"> (BOM)</a>, I will describe patterns from succesful production houses. By analyzing and comparing film generes, gross receipts, year to year consistency and studio success, this analysis will aid Microsoft in clarifying the vision, culture and resource management for their new subsidiary."
   ]
  },
  {
   "cell_type": "markdown",
   "metadata": {},
   "source": [
    "## Data Understanding\n",
    "\n",
    "The three data sets we are using are from the Internet Movie Database (IMDb) and a subsiderary company, Box Office Mojo (BOM).  Both are owned by Amazon, and represent the largest repository of film data available.  These files have information about movie genres, gross receipts domestically and abroad, plus basic things like titles, release year, studios, runtime, etc."
   ]
  },
  {
   "cell_type": "code",
   "execution_count": 1,
   "metadata": {},
   "outputs": [],
   "source": [
    "# Import relevant modules\n",
    "\n",
    "import pandas as pd\n",
    "import numpy as np\n",
    "import matplotlib.patches as mpatches\n",
    "import matplotlib.pyplot as plt\n",
    "import seaborn as sns\n",
    "%matplotlib inline"
   ]
  },
  {
   "cell_type": "code",
   "execution_count": 2,
   "metadata": {},
   "outputs": [
    {
     "data": {
      "text/plain": [
       "((146144, 6), (73856, 3), (3387, 5), (3387, 5))"
      ]
     },
     "execution_count": 2,
     "metadata": {},
     "output_type": "execute_result"
    }
   ],
   "source": [
    "df1 = pd.read_csv('data/title.basics.csv')\n",
    "df2 = pd.read_csv('data/title.ratings.csv')\n",
    "df3 = pd.read_csv('data/bom.movie_gross.csv')\n",
    "df4 = pd.read_csv('data/tn.movie_budgets.csv')\n",
    "\n",
    "df1.shape, df2.shape, df3.shape, df3.shape"
   ]
  },
  {
   "cell_type": "code",
   "execution_count": 3,
   "metadata": {},
   "outputs": [
    {
     "name": "stdout",
     "output_type": "stream",
     "text": [
      "<class 'pandas.core.frame.DataFrame'>\n",
      "RangeIndex: 146144 entries, 0 to 146143\n",
      "Data columns (total 6 columns):\n",
      " #   Column           Non-Null Count   Dtype  \n",
      "---  ------           --------------   -----  \n",
      " 0   tconst           146144 non-null  object \n",
      " 1   primary_title    146144 non-null  object \n",
      " 2   original_title   146123 non-null  object \n",
      " 3   start_year       146144 non-null  int64  \n",
      " 4   runtime_minutes  114405 non-null  float64\n",
      " 5   genres           140736 non-null  object \n",
      "dtypes: float64(1), int64(1), object(4)\n",
      "memory usage: 6.7+ MB\n"
     ]
    }
   ],
   "source": [
    "df1.info()"
   ]
  },
  {
   "cell_type": "code",
   "execution_count": 4,
   "metadata": {},
   "outputs": [
    {
     "name": "stdout",
     "output_type": "stream",
     "text": [
      "<class 'pandas.core.frame.DataFrame'>\n",
      "RangeIndex: 73856 entries, 0 to 73855\n",
      "Data columns (total 3 columns):\n",
      " #   Column         Non-Null Count  Dtype  \n",
      "---  ------         --------------  -----  \n",
      " 0   tconst         73856 non-null  object \n",
      " 1   averagerating  73856 non-null  float64\n",
      " 2   numvotes       73856 non-null  int64  \n",
      "dtypes: float64(1), int64(1), object(1)\n",
      "memory usage: 1.7+ MB\n"
     ]
    }
   ],
   "source": [
    "df2.info()"
   ]
  },
  {
   "cell_type": "code",
   "execution_count": 5,
   "metadata": {},
   "outputs": [
    {
     "name": "stdout",
     "output_type": "stream",
     "text": [
      "<class 'pandas.core.frame.DataFrame'>\n",
      "RangeIndex: 3387 entries, 0 to 3386\n",
      "Data columns (total 5 columns):\n",
      " #   Column          Non-Null Count  Dtype  \n",
      "---  ------          --------------  -----  \n",
      " 0   title           3387 non-null   object \n",
      " 1   studio          3382 non-null   object \n",
      " 2   domestic_gross  3359 non-null   float64\n",
      " 3   foreign_gross   2037 non-null   object \n",
      " 4   year            3387 non-null   int64  \n",
      "dtypes: float64(1), int64(1), object(3)\n",
      "memory usage: 132.4+ KB\n"
     ]
    }
   ],
   "source": [
    "df3.info()"
   ]
  },
  {
   "cell_type": "code",
   "execution_count": 6,
   "metadata": {},
   "outputs": [
    {
     "name": "stdout",
     "output_type": "stream",
     "text": [
      "<class 'pandas.core.frame.DataFrame'>\n",
      "RangeIndex: 5782 entries, 0 to 5781\n",
      "Data columns (total 6 columns):\n",
      " #   Column             Non-Null Count  Dtype \n",
      "---  ------             --------------  ----- \n",
      " 0   id                 5782 non-null   int64 \n",
      " 1   release_date       5782 non-null   object\n",
      " 2   movie              5782 non-null   object\n",
      " 3   production_budget  5782 non-null   object\n",
      " 4   domestic_gross     5782 non-null   object\n",
      " 5   worldwide_gross    5782 non-null   object\n",
      "dtypes: int64(1), object(5)\n",
      "memory usage: 271.2+ KB\n"
     ]
    }
   ],
   "source": [
    "df4.info()"
   ]
  },
  {
   "cell_type": "markdown",
   "metadata": {},
   "source": [
    "### DF1\n",
    "\n",
    "This data set contains titles, premiere year, runtime and film genres, along with an index."
   ]
  },
  {
   "cell_type": "code",
   "execution_count": 7,
   "metadata": {},
   "outputs": [
    {
     "name": "stdout",
     "output_type": "stream",
     "text": [
      "<class 'pandas.core.frame.DataFrame'>\n",
      "RangeIndex: 146144 entries, 0 to 146143\n",
      "Data columns (total 6 columns):\n",
      " #   Column           Non-Null Count   Dtype  \n",
      "---  ------           --------------   -----  \n",
      " 0   tconst           146144 non-null  object \n",
      " 1   primary_title    146144 non-null  object \n",
      " 2   original_title   146123 non-null  object \n",
      " 3   start_year       146144 non-null  int64  \n",
      " 4   runtime_minutes  114405 non-null  float64\n",
      " 5   genres           140736 non-null  object \n",
      "dtypes: float64(1), int64(1), object(4)\n",
      "memory usage: 6.7+ MB\n"
     ]
    }
   ],
   "source": [
    "df1.info()"
   ]
  },
  {
   "cell_type": "code",
   "execution_count": 8,
   "metadata": {},
   "outputs": [
    {
     "data": {
      "text/plain": [
       "2017    17504\n",
       "2016    17272\n",
       "2018    16849\n",
       "2015    16243\n",
       "2014    15589\n",
       "2013    14709\n",
       "2012    13787\n",
       "2011    12900\n",
       "2010    11849\n",
       "2019     8379\n",
       "2020      937\n",
       "2021       83\n",
       "2022       32\n",
       "2023        5\n",
       "2024        2\n",
       "2027        1\n",
       "2026        1\n",
       "2025        1\n",
       "2115        1\n",
       "Name: start_year, dtype: int64"
      ]
     },
     "execution_count": 8,
     "metadata": {},
     "output_type": "execute_result"
    }
   ],
   "source": [
    "df1['start_year'].value_counts()"
   ]
  },
  {
   "cell_type": "code",
   "execution_count": 9,
   "metadata": {},
   "outputs": [
    {
     "data": {
      "text/plain": [
       "Documentary                 32185\n",
       "Drama                       21486\n",
       "Comedy                       9177\n",
       "Horror                       4372\n",
       "Comedy,Drama                 3519\n",
       "                            ...  \n",
       "Animation,Horror,Sci-Fi         1\n",
       "Comedy,Crime,Western            1\n",
       "Animation,Crime,Mystery         1\n",
       "Musical,Romance,Western         1\n",
       "Biography,Mystery,Sci-Fi        1\n",
       "Name: genres, Length: 1085, dtype: int64"
      ]
     },
     "execution_count": 9,
     "metadata": {},
     "output_type": "execute_result"
    }
   ],
   "source": [
    "df1['genres'].value_counts()"
   ]
  },
  {
   "cell_type": "code",
   "execution_count": 10,
   "metadata": {},
   "outputs": [
    {
     "data": {
      "text/plain": [
       "146144"
      ]
     },
     "execution_count": 10,
     "metadata": {},
     "output_type": "execute_result"
    }
   ],
   "source": [
    "len(df1['tconst'].unique()) # the output matches the number of entries for 'tconst'.  The values are unique"
   ]
  },
  {
   "cell_type": "markdown",
   "metadata": {},
   "source": [
    "### DF2\n",
    "\n",
    "This data set contains fan rating and voting information along with an index."
   ]
  },
  {
   "cell_type": "code",
   "execution_count": 11,
   "metadata": {},
   "outputs": [
    {
     "data": {
      "text/html": [
       "<div>\n",
       "<style scoped>\n",
       "    .dataframe tbody tr th:only-of-type {\n",
       "        vertical-align: middle;\n",
       "    }\n",
       "\n",
       "    .dataframe tbody tr th {\n",
       "        vertical-align: top;\n",
       "    }\n",
       "\n",
       "    .dataframe thead th {\n",
       "        text-align: right;\n",
       "    }\n",
       "</style>\n",
       "<table border=\"1\" class=\"dataframe\">\n",
       "  <thead>\n",
       "    <tr style=\"text-align: right;\">\n",
       "      <th></th>\n",
       "      <th>tconst</th>\n",
       "      <th>averagerating</th>\n",
       "      <th>numvotes</th>\n",
       "    </tr>\n",
       "  </thead>\n",
       "  <tbody>\n",
       "    <tr>\n",
       "      <th>0</th>\n",
       "      <td>tt10356526</td>\n",
       "      <td>8.3</td>\n",
       "      <td>31</td>\n",
       "    </tr>\n",
       "    <tr>\n",
       "      <th>1</th>\n",
       "      <td>tt10384606</td>\n",
       "      <td>8.9</td>\n",
       "      <td>559</td>\n",
       "    </tr>\n",
       "    <tr>\n",
       "      <th>2</th>\n",
       "      <td>tt1042974</td>\n",
       "      <td>6.4</td>\n",
       "      <td>20</td>\n",
       "    </tr>\n",
       "    <tr>\n",
       "      <th>3</th>\n",
       "      <td>tt1043726</td>\n",
       "      <td>4.2</td>\n",
       "      <td>50352</td>\n",
       "    </tr>\n",
       "    <tr>\n",
       "      <th>4</th>\n",
       "      <td>tt1060240</td>\n",
       "      <td>6.5</td>\n",
       "      <td>21</td>\n",
       "    </tr>\n",
       "  </tbody>\n",
       "</table>\n",
       "</div>"
      ],
      "text/plain": [
       "       tconst  averagerating  numvotes\n",
       "0  tt10356526            8.3        31\n",
       "1  tt10384606            8.9       559\n",
       "2   tt1042974            6.4        20\n",
       "3   tt1043726            4.2     50352\n",
       "4   tt1060240            6.5        21"
      ]
     },
     "execution_count": 11,
     "metadata": {},
     "output_type": "execute_result"
    }
   ],
   "source": [
    "df2.head()"
   ]
  },
  {
   "cell_type": "code",
   "execution_count": 12,
   "metadata": {},
   "outputs": [
    {
     "data": {
      "text/plain": [
       "(6.4, 7.3]     19088\n",
       "(5.5, 6.4]     16563\n",
       "(7.3, 8.2]     12473\n",
       "(4.6, 5.5]      9861\n",
       "(3.7, 4.6]      5452\n",
       "(8.2, 9.1]      5354\n",
       "(2.8, 3.7]      2819\n",
       "(1.9, 2.8]      1112\n",
       "(9.1, 10.0]      715\n",
       "(0.99, 1.9]      419\n",
       "Name: averagerating, dtype: int64"
      ]
     },
     "execution_count": 12,
     "metadata": {},
     "output_type": "execute_result"
    }
   ],
   "source": [
    "df2['averagerating'].value_counts(bins=10)"
   ]
  },
  {
   "cell_type": "code",
   "execution_count": 13,
   "metadata": {},
   "outputs": [
    {
     "data": {
      "text/plain": [
       "(-1836.062, 153426.75]     73443\n",
       "(153426.75, 306848.5]        243\n",
       "(306848.5, 460270.25]         91\n",
       "(460270.25, 613692.0]         45\n",
       "(613692.0, 767113.75]         22\n",
       "(767113.75, 920535.5]          4\n",
       "(920535.5, 1073957.25]         3\n",
       "(1073957.25, 1227379.0]        2\n",
       "(1687644.25, 1841066.0]        1\n",
       "(1380800.75, 1534222.5]        1\n",
       "(1227379.0, 1380800.75]        1\n",
       "(1534222.5, 1687644.25]        0\n",
       "Name: numvotes, dtype: int64"
      ]
     },
     "execution_count": 13,
     "metadata": {},
     "output_type": "execute_result"
    }
   ],
   "source": [
    "df2['numvotes'].value_counts(bins=12)"
   ]
  },
  {
   "cell_type": "code",
   "execution_count": 14,
   "metadata": {},
   "outputs": [
    {
     "data": {
      "text/plain": [
       "73856"
      ]
     },
     "execution_count": 14,
     "metadata": {},
     "output_type": "execute_result"
    }
   ],
   "source": [
    "len(df2['tconst'].unique()) # the output matches the number of entries for 'tconst'.  The values are unique"
   ]
  },
  {
   "cell_type": "markdown",
   "metadata": {},
   "source": [
    "## DF3\n",
    "\n",
    "This data set contains titles, production studio, year of release from 2010 - 2018, and domestic and foreign gross receipts."
   ]
  },
  {
   "cell_type": "code",
   "execution_count": 15,
   "metadata": {},
   "outputs": [
    {
     "data": {
      "text/html": [
       "<div>\n",
       "<style scoped>\n",
       "    .dataframe tbody tr th:only-of-type {\n",
       "        vertical-align: middle;\n",
       "    }\n",
       "\n",
       "    .dataframe tbody tr th {\n",
       "        vertical-align: top;\n",
       "    }\n",
       "\n",
       "    .dataframe thead th {\n",
       "        text-align: right;\n",
       "    }\n",
       "</style>\n",
       "<table border=\"1\" class=\"dataframe\">\n",
       "  <thead>\n",
       "    <tr style=\"text-align: right;\">\n",
       "      <th></th>\n",
       "      <th>title</th>\n",
       "      <th>studio</th>\n",
       "      <th>domestic_gross</th>\n",
       "      <th>foreign_gross</th>\n",
       "      <th>year</th>\n",
       "    </tr>\n",
       "  </thead>\n",
       "  <tbody>\n",
       "    <tr>\n",
       "      <th>0</th>\n",
       "      <td>Toy Story 3</td>\n",
       "      <td>BV</td>\n",
       "      <td>415000000.0</td>\n",
       "      <td>652000000</td>\n",
       "      <td>2010</td>\n",
       "    </tr>\n",
       "    <tr>\n",
       "      <th>1</th>\n",
       "      <td>Alice in Wonderland (2010)</td>\n",
       "      <td>BV</td>\n",
       "      <td>334200000.0</td>\n",
       "      <td>691300000</td>\n",
       "      <td>2010</td>\n",
       "    </tr>\n",
       "    <tr>\n",
       "      <th>2</th>\n",
       "      <td>Harry Potter and the Deathly Hallows Part 1</td>\n",
       "      <td>WB</td>\n",
       "      <td>296000000.0</td>\n",
       "      <td>664300000</td>\n",
       "      <td>2010</td>\n",
       "    </tr>\n",
       "    <tr>\n",
       "      <th>3</th>\n",
       "      <td>Inception</td>\n",
       "      <td>WB</td>\n",
       "      <td>292600000.0</td>\n",
       "      <td>535700000</td>\n",
       "      <td>2010</td>\n",
       "    </tr>\n",
       "    <tr>\n",
       "      <th>4</th>\n",
       "      <td>Shrek Forever After</td>\n",
       "      <td>P/DW</td>\n",
       "      <td>238700000.0</td>\n",
       "      <td>513900000</td>\n",
       "      <td>2010</td>\n",
       "    </tr>\n",
       "  </tbody>\n",
       "</table>\n",
       "</div>"
      ],
      "text/plain": [
       "                                         title studio  domestic_gross  \\\n",
       "0                                  Toy Story 3     BV     415000000.0   \n",
       "1                   Alice in Wonderland (2010)     BV     334200000.0   \n",
       "2  Harry Potter and the Deathly Hallows Part 1     WB     296000000.0   \n",
       "3                                    Inception     WB     292600000.0   \n",
       "4                          Shrek Forever After   P/DW     238700000.0   \n",
       "\n",
       "  foreign_gross  year  \n",
       "0     652000000  2010  \n",
       "1     691300000  2010  \n",
       "2     664300000  2010  \n",
       "3     535700000  2010  \n",
       "4     513900000  2010  "
      ]
     },
     "execution_count": 15,
     "metadata": {},
     "output_type": "execute_result"
    }
   ],
   "source": [
    "df3.head()"
   ]
  },
  {
   "cell_type": "code",
   "execution_count": 16,
   "metadata": {},
   "outputs": [
    {
     "name": "stdout",
     "output_type": "stream",
     "text": [
      "<class 'pandas.core.frame.DataFrame'>\n",
      "RangeIndex: 3387 entries, 0 to 3386\n",
      "Data columns (total 5 columns):\n",
      " #   Column          Non-Null Count  Dtype  \n",
      "---  ------          --------------  -----  \n",
      " 0   title           3387 non-null   object \n",
      " 1   studio          3382 non-null   object \n",
      " 2   domestic_gross  3359 non-null   float64\n",
      " 3   foreign_gross   2037 non-null   object \n",
      " 4   year            3387 non-null   int64  \n",
      "dtypes: float64(1), int64(1), object(3)\n",
      "memory usage: 132.4+ KB\n"
     ]
    }
   ],
   "source": [
    "df3.info()"
   ]
  },
  {
   "cell_type": "code",
   "execution_count": 17,
   "metadata": {},
   "outputs": [
    {
     "data": {
      "text/plain": [
       "IFC             166\n",
       "Uni.            147\n",
       "WB              140\n",
       "Magn.           136\n",
       "Fox             136\n",
       "               ... \n",
       "Conglomerate      1\n",
       "UEP               1\n",
       "CFI               1\n",
       "Saban             1\n",
       "MSF               1\n",
       "Name: studio, Length: 257, dtype: int64"
      ]
     },
     "execution_count": 17,
     "metadata": {},
     "output_type": "execute_result"
    }
   ],
   "source": [
    "df3['studio'].value_counts()"
   ]
  },
  {
   "cell_type": "code",
   "execution_count": 18,
   "metadata": {},
   "outputs": [
    {
     "data": {
      "text/plain": [
       "2015    450\n",
       "2016    436\n",
       "2012    400\n",
       "2011    399\n",
       "2014    395\n",
       "2013    350\n",
       "2010    328\n",
       "2017    321\n",
       "2018    308\n",
       "Name: year, dtype: int64"
      ]
     },
     "execution_count": 18,
     "metadata": {},
     "output_type": "execute_result"
    }
   ],
   "source": [
    "df3['year'].value_counts()"
   ]
  },
  {
   "cell_type": "code",
   "execution_count": 19,
   "metadata": {},
   "outputs": [
    {
     "data": {
      "text/plain": [
       "Warner Bros    185\n",
       "IFC            166\n",
       "Universal      147\n",
       "Magn.          136\n",
       "Fox            136\n",
       "              ... \n",
       "PI               1\n",
       "UHE              1\n",
       "E1               1\n",
       "Blue Fox         1\n",
       "MSF              1\n",
       "Name: studio, Length: 256, dtype: int64"
      ]
     },
     "execution_count": 19,
     "metadata": {},
     "output_type": "execute_result"
    }
   ],
   "source": [
    "# Updating column names for readability in graphs\n",
    "df3['studio'].replace({\"WB (NL)\": \"WB\"}, inplace=True)\n",
    "df3['studio'].replace({\"WB\": \"Warner Bros\", 'BV': 'Disney', 'Uni.': \"Universal\", 'P/DW': 'DreamWorks', 'Par.': 'Paramount'}, inplace=True)\n",
    "df3['studio'].value_counts()"
   ]
  },
  {
   "cell_type": "markdown",
   "metadata": {},
   "source": [
    "## My initial process:\n",
    "\n",
    "In the initial view of the three data files, a few things stood out.\n",
    "1.  All three files had low number of null values.\n",
    "2.  The two files from IMDB had an index that appeared to be common between the them.\n",
    "3.  The file containing the gross receipts info had considerably less rows than the other two.  This file\n",
    "    is going to strongly influence the size of the merged data set."
   ]
  },
  {
   "cell_type": "markdown",
   "metadata": {},
   "source": [
    "## Data Preparation\n",
    "\n",
    "Each dataset contains pieces of information vital to making an analysis.  My process is:\n",
    "    \n",
    "    Doing an inner merge on df1 and df2 by 'tconst' to create the dataset df_imbd\n",
    "    Doing an inner merge on df_imbd and df3 by 'title' to create a complete dataset.\n",
    "    Cleaning up the data:\n",
    "        1.  Delete the 'original_title', 'start_year' and the 'runtime_minutes\" columns\n",
    "        2.  Change the foreign_gross column to float64 Dtype from object Dtype\n",
    "        3.  Add a column that is the sum of 'domestic_gross' and 'foreign_gross' entitled 'worldwide_gross'\n",
    "        4.  Delete duplicates in the title column"
   ]
  },
  {
   "cell_type": "markdown",
   "metadata": {},
   "source": [
    "### Merging datasets"
   ]
  },
  {
   "cell_type": "markdown",
   "metadata": {},
   "source": [
    "This will merge df1 and df2 by their common index numbers, and will drop the 'tconst' rows that are not common between the two datasets."
   ]
  },
  {
   "cell_type": "code",
   "execution_count": 20,
   "metadata": {},
   "outputs": [
    {
     "name": "stdout",
     "output_type": "stream",
     "text": [
      "<class 'pandas.core.frame.DataFrame'>\n",
      "Int64Index: 146144 entries, 0 to 146143\n",
      "Data columns (total 8 columns):\n",
      " #   Column           Non-Null Count   Dtype  \n",
      "---  ------           --------------   -----  \n",
      " 0   tconst           146144 non-null  object \n",
      " 1   primary_title    146144 non-null  object \n",
      " 2   original_title   146123 non-null  object \n",
      " 3   start_year       146144 non-null  int64  \n",
      " 4   runtime_minutes  114405 non-null  float64\n",
      " 5   genres           140736 non-null  object \n",
      " 6   averagerating    73856 non-null   float64\n",
      " 7   numvotes         73856 non-null   float64\n",
      "dtypes: float64(3), int64(1), object(4)\n",
      "memory usage: 10.0+ MB\n"
     ]
    }
   ],
   "source": [
    "df_imdb = df1.merge(df2, on=\"tconst\", how = 'left')\n",
    "df_imdb.info()"
   ]
  },
  {
   "cell_type": "markdown",
   "metadata": {},
   "source": [
    "  "
   ]
  },
  {
   "cell_type": "code",
   "execution_count": 21,
   "metadata": {},
   "outputs": [
    {
     "data": {
      "text/plain": [
       "False    142780\n",
       "True       3364\n",
       "Name: primary_title, dtype: int64"
      ]
     },
     "execution_count": 21,
     "metadata": {},
     "output_type": "execute_result"
    }
   ],
   "source": [
    "df_imdb['primary_title'].isin(df3['title']).value_counts()"
   ]
  },
  {
   "cell_type": "markdown",
   "metadata": {},
   "source": [
    "First, we'll rename the 'primary_title' column in 'df_imdb' to 'title'"
   ]
  },
  {
   "cell_type": "code",
   "execution_count": 22,
   "metadata": {},
   "outputs": [],
   "source": [
    "df_imdb.rename(columns={'primary_title': 'title'}, inplace=True)"
   ]
  },
  {
   "cell_type": "markdown",
   "metadata": {},
   "source": [
    "Now we'll prepare the the df3 and df4 files for merging, which contains financial and studio data."
   ]
  },
  {
   "cell_type": "code",
   "execution_count": 23,
   "metadata": {},
   "outputs": [],
   "source": [
    "df_bom = df3.drop(['domestic_gross','foreign_gross'], axis = 1)"
   ]
  },
  {
   "cell_type": "code",
   "execution_count": 24,
   "metadata": {},
   "outputs": [
    {
     "data": {
      "text/html": [
       "<div>\n",
       "<style scoped>\n",
       "    .dataframe tbody tr th:only-of-type {\n",
       "        vertical-align: middle;\n",
       "    }\n",
       "\n",
       "    .dataframe tbody tr th {\n",
       "        vertical-align: top;\n",
       "    }\n",
       "\n",
       "    .dataframe thead th {\n",
       "        text-align: right;\n",
       "    }\n",
       "</style>\n",
       "<table border=\"1\" class=\"dataframe\">\n",
       "  <thead>\n",
       "    <tr style=\"text-align: right;\">\n",
       "      <th></th>\n",
       "      <th>id</th>\n",
       "      <th>release_date</th>\n",
       "      <th>title</th>\n",
       "      <th>production_budget</th>\n",
       "      <th>domestic_gross</th>\n",
       "      <th>worldwide_gross</th>\n",
       "    </tr>\n",
       "  </thead>\n",
       "  <tbody>\n",
       "    <tr>\n",
       "      <th>0</th>\n",
       "      <td>1</td>\n",
       "      <td>Dec 18, 2009</td>\n",
       "      <td>Avatar</td>\n",
       "      <td>$425,000,000</td>\n",
       "      <td>$760,507,625</td>\n",
       "      <td>$2,776,345,279</td>\n",
       "    </tr>\n",
       "    <tr>\n",
       "      <th>1</th>\n",
       "      <td>2</td>\n",
       "      <td>May 20, 2011</td>\n",
       "      <td>Pirates of the Caribbean: On Stranger Tides</td>\n",
       "      <td>$410,600,000</td>\n",
       "      <td>$241,063,875</td>\n",
       "      <td>$1,045,663,875</td>\n",
       "    </tr>\n",
       "    <tr>\n",
       "      <th>2</th>\n",
       "      <td>3</td>\n",
       "      <td>Jun 7, 2019</td>\n",
       "      <td>Dark Phoenix</td>\n",
       "      <td>$350,000,000</td>\n",
       "      <td>$42,762,350</td>\n",
       "      <td>$149,762,350</td>\n",
       "    </tr>\n",
       "    <tr>\n",
       "      <th>3</th>\n",
       "      <td>4</td>\n",
       "      <td>May 1, 2015</td>\n",
       "      <td>Avengers: Age of Ultron</td>\n",
       "      <td>$330,600,000</td>\n",
       "      <td>$459,005,868</td>\n",
       "      <td>$1,403,013,963</td>\n",
       "    </tr>\n",
       "    <tr>\n",
       "      <th>4</th>\n",
       "      <td>5</td>\n",
       "      <td>Dec 15, 2017</td>\n",
       "      <td>Star Wars Ep. VIII: The Last Jedi</td>\n",
       "      <td>$317,000,000</td>\n",
       "      <td>$620,181,382</td>\n",
       "      <td>$1,316,721,747</td>\n",
       "    </tr>\n",
       "    <tr>\n",
       "      <th>...</th>\n",
       "      <td>...</td>\n",
       "      <td>...</td>\n",
       "      <td>...</td>\n",
       "      <td>...</td>\n",
       "      <td>...</td>\n",
       "      <td>...</td>\n",
       "    </tr>\n",
       "    <tr>\n",
       "      <th>5777</th>\n",
       "      <td>78</td>\n",
       "      <td>Dec 31, 2018</td>\n",
       "      <td>Red 11</td>\n",
       "      <td>$7,000</td>\n",
       "      <td>$0</td>\n",
       "      <td>$0</td>\n",
       "    </tr>\n",
       "    <tr>\n",
       "      <th>5778</th>\n",
       "      <td>79</td>\n",
       "      <td>Apr 2, 1999</td>\n",
       "      <td>Following</td>\n",
       "      <td>$6,000</td>\n",
       "      <td>$48,482</td>\n",
       "      <td>$240,495</td>\n",
       "    </tr>\n",
       "    <tr>\n",
       "      <th>5779</th>\n",
       "      <td>80</td>\n",
       "      <td>Jul 13, 2005</td>\n",
       "      <td>Return to the Land of Wonders</td>\n",
       "      <td>$5,000</td>\n",
       "      <td>$1,338</td>\n",
       "      <td>$1,338</td>\n",
       "    </tr>\n",
       "    <tr>\n",
       "      <th>5780</th>\n",
       "      <td>81</td>\n",
       "      <td>Sep 29, 2015</td>\n",
       "      <td>A Plague So Pleasant</td>\n",
       "      <td>$1,400</td>\n",
       "      <td>$0</td>\n",
       "      <td>$0</td>\n",
       "    </tr>\n",
       "    <tr>\n",
       "      <th>5781</th>\n",
       "      <td>82</td>\n",
       "      <td>Aug 5, 2005</td>\n",
       "      <td>My Date With Drew</td>\n",
       "      <td>$1,100</td>\n",
       "      <td>$181,041</td>\n",
       "      <td>$181,041</td>\n",
       "    </tr>\n",
       "  </tbody>\n",
       "</table>\n",
       "<p>5782 rows × 6 columns</p>\n",
       "</div>"
      ],
      "text/plain": [
       "      id  release_date                                        title  \\\n",
       "0      1  Dec 18, 2009                                       Avatar   \n",
       "1      2  May 20, 2011  Pirates of the Caribbean: On Stranger Tides   \n",
       "2      3   Jun 7, 2019                                 Dark Phoenix   \n",
       "3      4   May 1, 2015                      Avengers: Age of Ultron   \n",
       "4      5  Dec 15, 2017            Star Wars Ep. VIII: The Last Jedi   \n",
       "...   ..           ...                                          ...   \n",
       "5777  78  Dec 31, 2018                                       Red 11   \n",
       "5778  79   Apr 2, 1999                                    Following   \n",
       "5779  80  Jul 13, 2005                Return to the Land of Wonders   \n",
       "5780  81  Sep 29, 2015                         A Plague So Pleasant   \n",
       "5781  82   Aug 5, 2005                            My Date With Drew   \n",
       "\n",
       "     production_budget domestic_gross worldwide_gross  \n",
       "0         $425,000,000   $760,507,625  $2,776,345,279  \n",
       "1         $410,600,000   $241,063,875  $1,045,663,875  \n",
       "2         $350,000,000    $42,762,350    $149,762,350  \n",
       "3         $330,600,000   $459,005,868  $1,403,013,963  \n",
       "4         $317,000,000   $620,181,382  $1,316,721,747  \n",
       "...                ...            ...             ...  \n",
       "5777            $7,000             $0              $0  \n",
       "5778            $6,000        $48,482        $240,495  \n",
       "5779            $5,000         $1,338          $1,338  \n",
       "5780            $1,400             $0              $0  \n",
       "5781            $1,100       $181,041        $181,041  \n",
       "\n",
       "[5782 rows x 6 columns]"
      ]
     },
     "execution_count": 24,
     "metadata": {},
     "output_type": "execute_result"
    }
   ],
   "source": [
    "df4.rename(columns={'movie': 'title'}, inplace=True)\n",
    "df4"
   ]
  },
  {
   "cell_type": "code",
   "execution_count": 25,
   "metadata": {},
   "outputs": [
    {
     "name": "stdout",
     "output_type": "stream",
     "text": [
      "<class 'pandas.core.frame.DataFrame'>\n",
      "RangeIndex: 5782 entries, 0 to 5781\n",
      "Data columns (total 6 columns):\n",
      " #   Column             Non-Null Count  Dtype \n",
      "---  ------             --------------  ----- \n",
      " 0   id                 5782 non-null   int64 \n",
      " 1   release_date       5782 non-null   object\n",
      " 2   title              5782 non-null   object\n",
      " 3   production_budget  5782 non-null   object\n",
      " 4   domestic_gross     5782 non-null   object\n",
      " 5   worldwide_gross    5782 non-null   object\n",
      "dtypes: int64(1), object(5)\n",
      "memory usage: 271.2+ KB\n"
     ]
    }
   ],
   "source": [
    "df4.info()"
   ]
  },
  {
   "cell_type": "code",
   "execution_count": 26,
   "metadata": {},
   "outputs": [
    {
     "data": {
      "text/html": [
       "<div>\n",
       "<style scoped>\n",
       "    .dataframe tbody tr th:only-of-type {\n",
       "        vertical-align: middle;\n",
       "    }\n",
       "\n",
       "    .dataframe tbody tr th {\n",
       "        vertical-align: top;\n",
       "    }\n",
       "\n",
       "    .dataframe thead th {\n",
       "        text-align: right;\n",
       "    }\n",
       "</style>\n",
       "<table border=\"1\" class=\"dataframe\">\n",
       "  <thead>\n",
       "    <tr style=\"text-align: right;\">\n",
       "      <th></th>\n",
       "      <th>title</th>\n",
       "      <th>studio</th>\n",
       "      <th>year</th>\n",
       "      <th>id</th>\n",
       "      <th>release_date</th>\n",
       "      <th>production_budget</th>\n",
       "      <th>domestic_gross</th>\n",
       "      <th>worldwide_gross</th>\n",
       "    </tr>\n",
       "  </thead>\n",
       "  <tbody>\n",
       "    <tr>\n",
       "      <th>0</th>\n",
       "      <td>Avatar</td>\n",
       "      <td>NaN</td>\n",
       "      <td>NaN</td>\n",
       "      <td>1</td>\n",
       "      <td>Dec 18, 2009</td>\n",
       "      <td>$425,000,000</td>\n",
       "      <td>$760,507,625</td>\n",
       "      <td>$2,776,345,279</td>\n",
       "    </tr>\n",
       "    <tr>\n",
       "      <th>1</th>\n",
       "      <td>Pirates of the Caribbean: On Stranger Tides</td>\n",
       "      <td>Disney</td>\n",
       "      <td>2011.0</td>\n",
       "      <td>2</td>\n",
       "      <td>May 20, 2011</td>\n",
       "      <td>$410,600,000</td>\n",
       "      <td>$241,063,875</td>\n",
       "      <td>$1,045,663,875</td>\n",
       "    </tr>\n",
       "    <tr>\n",
       "      <th>2</th>\n",
       "      <td>Dark Phoenix</td>\n",
       "      <td>NaN</td>\n",
       "      <td>NaN</td>\n",
       "      <td>3</td>\n",
       "      <td>Jun 7, 2019</td>\n",
       "      <td>$350,000,000</td>\n",
       "      <td>$42,762,350</td>\n",
       "      <td>$149,762,350</td>\n",
       "    </tr>\n",
       "    <tr>\n",
       "      <th>3</th>\n",
       "      <td>Avengers: Age of Ultron</td>\n",
       "      <td>Disney</td>\n",
       "      <td>2015.0</td>\n",
       "      <td>4</td>\n",
       "      <td>May 1, 2015</td>\n",
       "      <td>$330,600,000</td>\n",
       "      <td>$459,005,868</td>\n",
       "      <td>$1,403,013,963</td>\n",
       "    </tr>\n",
       "    <tr>\n",
       "      <th>4</th>\n",
       "      <td>Star Wars Ep. VIII: The Last Jedi</td>\n",
       "      <td>NaN</td>\n",
       "      <td>NaN</td>\n",
       "      <td>5</td>\n",
       "      <td>Dec 15, 2017</td>\n",
       "      <td>$317,000,000</td>\n",
       "      <td>$620,181,382</td>\n",
       "      <td>$1,316,721,747</td>\n",
       "    </tr>\n",
       "    <tr>\n",
       "      <th>...</th>\n",
       "      <td>...</td>\n",
       "      <td>...</td>\n",
       "      <td>...</td>\n",
       "      <td>...</td>\n",
       "      <td>...</td>\n",
       "      <td>...</td>\n",
       "      <td>...</td>\n",
       "      <td>...</td>\n",
       "    </tr>\n",
       "    <tr>\n",
       "      <th>5777</th>\n",
       "      <td>Red 11</td>\n",
       "      <td>NaN</td>\n",
       "      <td>NaN</td>\n",
       "      <td>78</td>\n",
       "      <td>Dec 31, 2018</td>\n",
       "      <td>$7,000</td>\n",
       "      <td>$0</td>\n",
       "      <td>$0</td>\n",
       "    </tr>\n",
       "    <tr>\n",
       "      <th>5778</th>\n",
       "      <td>Following</td>\n",
       "      <td>NaN</td>\n",
       "      <td>NaN</td>\n",
       "      <td>79</td>\n",
       "      <td>Apr 2, 1999</td>\n",
       "      <td>$6,000</td>\n",
       "      <td>$48,482</td>\n",
       "      <td>$240,495</td>\n",
       "    </tr>\n",
       "    <tr>\n",
       "      <th>5779</th>\n",
       "      <td>Return to the Land of Wonders</td>\n",
       "      <td>NaN</td>\n",
       "      <td>NaN</td>\n",
       "      <td>80</td>\n",
       "      <td>Jul 13, 2005</td>\n",
       "      <td>$5,000</td>\n",
       "      <td>$1,338</td>\n",
       "      <td>$1,338</td>\n",
       "    </tr>\n",
       "    <tr>\n",
       "      <th>5780</th>\n",
       "      <td>A Plague So Pleasant</td>\n",
       "      <td>NaN</td>\n",
       "      <td>NaN</td>\n",
       "      <td>81</td>\n",
       "      <td>Sep 29, 2015</td>\n",
       "      <td>$1,400</td>\n",
       "      <td>$0</td>\n",
       "      <td>$0</td>\n",
       "    </tr>\n",
       "    <tr>\n",
       "      <th>5781</th>\n",
       "      <td>My Date With Drew</td>\n",
       "      <td>NaN</td>\n",
       "      <td>NaN</td>\n",
       "      <td>82</td>\n",
       "      <td>Aug 5, 2005</td>\n",
       "      <td>$1,100</td>\n",
       "      <td>$181,041</td>\n",
       "      <td>$181,041</td>\n",
       "    </tr>\n",
       "  </tbody>\n",
       "</table>\n",
       "<p>5782 rows × 8 columns</p>\n",
       "</div>"
      ],
      "text/plain": [
       "                                            title  studio    year  id  \\\n",
       "0                                          Avatar     NaN     NaN   1   \n",
       "1     Pirates of the Caribbean: On Stranger Tides  Disney  2011.0   2   \n",
       "2                                    Dark Phoenix     NaN     NaN   3   \n",
       "3                         Avengers: Age of Ultron  Disney  2015.0   4   \n",
       "4               Star Wars Ep. VIII: The Last Jedi     NaN     NaN   5   \n",
       "...                                           ...     ...     ...  ..   \n",
       "5777                                       Red 11     NaN     NaN  78   \n",
       "5778                                    Following     NaN     NaN  79   \n",
       "5779                Return to the Land of Wonders     NaN     NaN  80   \n",
       "5780                         A Plague So Pleasant     NaN     NaN  81   \n",
       "5781                            My Date With Drew     NaN     NaN  82   \n",
       "\n",
       "      release_date production_budget domestic_gross worldwide_gross  \n",
       "0     Dec 18, 2009      $425,000,000   $760,507,625  $2,776,345,279  \n",
       "1     May 20, 2011      $410,600,000   $241,063,875  $1,045,663,875  \n",
       "2      Jun 7, 2019      $350,000,000    $42,762,350    $149,762,350  \n",
       "3      May 1, 2015      $330,600,000   $459,005,868  $1,403,013,963  \n",
       "4     Dec 15, 2017      $317,000,000   $620,181,382  $1,316,721,747  \n",
       "...            ...               ...            ...             ...  \n",
       "5777  Dec 31, 2018            $7,000             $0              $0  \n",
       "5778   Apr 2, 1999            $6,000        $48,482        $240,495  \n",
       "5779  Jul 13, 2005            $5,000         $1,338          $1,338  \n",
       "5780  Sep 29, 2015            $1,400             $0              $0  \n",
       "5781   Aug 5, 2005            $1,100       $181,041        $181,041  \n",
       "\n",
       "[5782 rows x 8 columns]"
      ]
     },
     "execution_count": 26,
     "metadata": {},
     "output_type": "execute_result"
    }
   ],
   "source": [
    "df_money = df_bom.merge(df4, on = 'title', how = 'right')\n",
    "df_money"
   ]
  },
  {
   "cell_type": "markdown",
   "metadata": {},
   "source": [
    "This merge did not completely give the results we wanted, but was the best of the options available.  It resulted in having to hard code some data to complete our top grossing movies list.\n",
    "\n",
    "Now we'll merge the IMBd data with the BOM data, which has all the gross receipts details.  The commonality between these files is the titles; of the 3387 rows in the BOM data file, 3025 of them have matching data in the 'title' column with the 'primary_title' column in the IMDb file.  "
   ]
  },
  {
   "cell_type": "code",
   "execution_count": 27,
   "metadata": {
    "scrolled": true
   },
   "outputs": [],
   "source": [
    "df_all3 = df_imdb.merge(df_money, on=\"title\", how = 'right')"
   ]
  },
  {
   "cell_type": "code",
   "execution_count": 28,
   "metadata": {},
   "outputs": [
    {
     "name": "stdout",
     "output_type": "stream",
     "text": [
      "<class 'pandas.core.frame.DataFrame'>\n",
      "Int64Index: 7221 entries, 0 to 7220\n",
      "Data columns (total 15 columns):\n",
      " #   Column             Non-Null Count  Dtype  \n",
      "---  ------             --------------  -----  \n",
      " 0   tconst             3815 non-null   object \n",
      " 1   title              7221 non-null   object \n",
      " 2   original_title     3814 non-null   object \n",
      " 3   start_year         3815 non-null   float64\n",
      " 4   runtime_minutes    3328 non-null   float64\n",
      " 5   genres             3743 non-null   object \n",
      " 6   averagerating      2875 non-null   float64\n",
      " 7   numvotes           2875 non-null   float64\n",
      " 8   studio             1681 non-null   object \n",
      " 9   year               1682 non-null   float64\n",
      " 10  id                 7221 non-null   int64  \n",
      " 11  release_date       7221 non-null   object \n",
      " 12  production_budget  7221 non-null   object \n",
      " 13  domestic_gross     7221 non-null   object \n",
      " 14  worldwide_gross    7221 non-null   object \n",
      "dtypes: float64(5), int64(1), object(9)\n",
      "memory usage: 902.6+ KB\n"
     ]
    }
   ],
   "source": [
    "df_all3.info()"
   ]
  },
  {
   "cell_type": "markdown",
   "metadata": {},
   "source": [
    "### Data Cleaning"
   ]
  },
  {
   "cell_type": "code",
   "execution_count": null,
   "metadata": {},
   "outputs": [],
   "source": []
  },
  {
   "cell_type": "code",
   "execution_count": 29,
   "metadata": {},
   "outputs": [],
   "source": [
    "# remove all but numbers in  the gross earnings columns\n",
    "df_all3['domestic_gross'] = df_all3['domestic_gross'].apply(str).str.replace(r\"[a-zA-Z$,]\",'')\n",
    "df_all3['worldwide_gross'] = df_all3['worldwide_gross'].apply(str).str.replace(r\"[a-zA-Z$,]\",'')"
   ]
  },
  {
   "cell_type": "code",
   "execution_count": 30,
   "metadata": {},
   "outputs": [
    {
     "name": "stdout",
     "output_type": "stream",
     "text": [
      "<class 'pandas.core.frame.DataFrame'>\n",
      "Int64Index: 7221 entries, 0 to 7220\n",
      "Data columns (total 15 columns):\n",
      " #   Column             Non-Null Count  Dtype  \n",
      "---  ------             --------------  -----  \n",
      " 0   tconst             3815 non-null   object \n",
      " 1   title              7221 non-null   object \n",
      " 2   original_title     3814 non-null   object \n",
      " 3   start_year         3815 non-null   float64\n",
      " 4   runtime_minutes    3328 non-null   float64\n",
      " 5   genres             3743 non-null   object \n",
      " 6   averagerating      2875 non-null   float64\n",
      " 7   numvotes           2875 non-null   float64\n",
      " 8   studio             1681 non-null   object \n",
      " 9   year               1682 non-null   float64\n",
      " 10  id                 7221 non-null   int64  \n",
      " 11  release_date       7221 non-null   object \n",
      " 12  production_budget  7221 non-null   object \n",
      " 13  domestic_gross     7221 non-null   int64  \n",
      " 14  worldwide_gross    7221 non-null   object \n",
      "dtypes: float64(5), int64(2), object(8)\n",
      "memory usage: 902.6+ KB\n"
     ]
    }
   ],
   "source": [
    "# convert gross earnings columns to numeric\n",
    "df_all3['domestic_gross'] = pd.to_numeric(df_all3['domestic_gross'], errors = 'coerce')\n",
    "df_all3.info()"
   ]
  },
  {
   "cell_type": "code",
   "execution_count": 31,
   "metadata": {},
   "outputs": [],
   "source": [
    "df_all3['worldwide_gross'] = pd.to_numeric(df_all3['worldwide_gross'], errors = 'coerce')"
   ]
  },
  {
   "cell_type": "code",
   "execution_count": 32,
   "metadata": {},
   "outputs": [],
   "source": [
    "df_all3 = df_all3.drop_duplicates(subset=['title'])"
   ]
  },
  {
   "cell_type": "code",
   "execution_count": 33,
   "metadata": {},
   "outputs": [],
   "source": [
    "# df_all3['foreign_gross'] = df_all3['foreign_gross'].fillna(0)\n",
    "\n",
    "# df_all3.insert(loc = 8,\n",
    "#          column = 'worldwide_gross',\n",
    "#          value = 0) # insert column 'worldwide_gross'\n",
    "# df_all3['worldwide_gross'] = df_all3.apply(lambda row: row['domestic_gross'] + row['foreign_gross'], axis=1)"
   ]
  },
  {
   "cell_type": "code",
   "execution_count": 34,
   "metadata": {},
   "outputs": [
    {
     "name": "stdout",
     "output_type": "stream",
     "text": [
      "<class 'pandas.core.frame.DataFrame'>\n",
      "Int64Index: 5698 entries, 0 to 7220\n",
      "Data columns (total 15 columns):\n",
      " #   Column             Non-Null Count  Dtype  \n",
      "---  ------             --------------  -----  \n",
      " 0   tconst             2312 non-null   object \n",
      " 1   title              5698 non-null   object \n",
      " 2   original_title     2312 non-null   object \n",
      " 3   start_year         2312 non-null   float64\n",
      " 4   runtime_minutes    2138 non-null   float64\n",
      " 5   genres             2287 non-null   object \n",
      " 6   averagerating      2033 non-null   float64\n",
      " 7   numvotes           2033 non-null   float64\n",
      " 8   studio             1237 non-null   object \n",
      " 9   year               1238 non-null   float64\n",
      " 10  id                 5698 non-null   int64  \n",
      " 11  release_date       5698 non-null   object \n",
      " 12  production_budget  5698 non-null   object \n",
      " 13  domestic_gross     5698 non-null   int64  \n",
      " 14  worldwide_gross    5698 non-null   int64  \n",
      "dtypes: float64(5), int64(3), object(7)\n",
      "memory usage: 712.2+ KB\n"
     ]
    }
   ],
   "source": [
    "df_all3.info()"
   ]
  },
  {
   "cell_type": "code",
   "execution_count": 35,
   "metadata": {},
   "outputs": [],
   "source": [
    "# Save cleaned dataset as CSV\n",
    "df_all3.to_csv('./data/df_all3.csv')"
   ]
  },
  {
   "cell_type": "markdown",
   "metadata": {},
   "source": [
    "## Analysis"
   ]
  },
  {
   "cell_type": "markdown",
   "metadata": {},
   "source": [
    "## Top Grossing Films"
   ]
  },
  {
   "cell_type": "markdown",
   "metadata": {},
   "source": [
    "### Top Grossing Films"
   ]
  },
  {
   "cell_type": "markdown",
   "metadata": {},
   "source": [
    "We'll look at the most obvious stat first - top 25 grossing films worldwide by title."
   ]
  },
  {
   "cell_type": "code",
   "execution_count": 36,
   "metadata": {},
   "outputs": [],
   "source": [
    "#Hard coding to add missing values\n",
    "\n",
    "df_replace_na = df_all3.nlargest(25,'worldwide_gross')\n",
    "df_replace_na_select = df_replace_na[['title', 'genres', 'year', 'studio','worldwide_gross', 'domestic_gross']]\n",
    "\n",
    "# Avatar\n",
    "df_replace_na_select.at[df_replace_na_select.index[0], 'genres'] = 'Action,Adventure,Sci-Fi'\n",
    "df_replace_na_select.at[df_replace_na_select.index[0], 'year'] = '2009'\n",
    "df_replace_na_select.at[df_replace_na_select.index[0], 'studio'] = '20th Century Fox'\n",
    "\n",
    "# Titanic\n",
    "df_replace_na_select.at[df_replace_na_select.index[1], 'year'] = '1997'\n",
    "df_replace_na_select.at[df_replace_na_select.index[1], 'studio'] = 'Paramount'\n",
    "\n",
    "# Star Wars VII\n",
    "df_replace_na_select.at[df_replace_na_select.index[2], 'genres'] = 'Action,Adventure,Sci-Fi'\n",
    "df_replace_na_select.at[df_replace_na_select.index[2], 'year'] = '2015'\n",
    "df_replace_na_select.at[df_replace_na_select.index[2], 'studio'] = 'Disney'\n",
    "\n",
    "# The Avengers\n",
    "df_replace_na_select.at[df_replace_na_select.index[6], 'year'] = '2012'\n",
    "df_replace_na_select.at[df_replace_na_select.index[6], 'studio'] = 'Disney'\n",
    "\n",
    "# Harry Potter - Deathly Hallows 2\n",
    "df_replace_na_select.at[df_replace_na_select.index[9], 'genres'] = 'Action,Adventure,Sci-Fi'\n",
    "df_replace_na_select.at[df_replace_na_select.index[9], 'year'] = '2011'\n",
    "df_replace_na_select.at[df_replace_na_select.index[9], 'studio'] = 'Warner Bros'\n",
    "\n",
    "# Star Wars VIII\n",
    "df_replace_na_select.at[df_replace_na_select.index[10], 'genres'] = 'Action,Adventure,Sci-Fi'\n",
    "df_replace_na_select.at[df_replace_na_select.index[10], 'year'] = '2017'\n",
    "df_replace_na_select.at[df_replace_na_select.index[10], 'studio'] = 'Disney'\n",
    "\n",
    "# Beauty and the Beast\n",
    "df_replace_na_select.at[df_replace_na_select.index[13], 'year'] = '2017'\n",
    "df_replace_na_select.at[df_replace_na_select.index[13], 'studio'] = 'Disney'"
   ]
  },
  {
   "cell_type": "code",
   "execution_count": 37,
   "metadata": {},
   "outputs": [
    {
     "data": {
      "text/html": [
       "<div>\n",
       "<style scoped>\n",
       "    .dataframe tbody tr th:only-of-type {\n",
       "        vertical-align: middle;\n",
       "    }\n",
       "\n",
       "    .dataframe tbody tr th {\n",
       "        vertical-align: top;\n",
       "    }\n",
       "\n",
       "    .dataframe thead th {\n",
       "        text-align: right;\n",
       "    }\n",
       "</style>\n",
       "<table border=\"1\" class=\"dataframe\">\n",
       "  <thead>\n",
       "    <tr style=\"text-align: right;\">\n",
       "      <th></th>\n",
       "      <th>title</th>\n",
       "      <th>genres</th>\n",
       "      <th>year</th>\n",
       "      <th>studio</th>\n",
       "      <th>worldwide_gross</th>\n",
       "      <th>domestic_gross</th>\n",
       "    </tr>\n",
       "  </thead>\n",
       "  <tbody>\n",
       "    <tr>\n",
       "      <th>0</th>\n",
       "      <td>Avatar</td>\n",
       "      <td>Action,Adventure,Sci-Fi</td>\n",
       "      <td>2009.0</td>\n",
       "      <td>20th Century Fox</td>\n",
       "      <td>2776345279</td>\n",
       "      <td>760507625</td>\n",
       "    </tr>\n",
       "    <tr>\n",
       "      <th>5</th>\n",
       "      <td>Star Wars Ep. VII: The Force Awakens</td>\n",
       "      <td>Action,Adventure,Sci-Fi</td>\n",
       "      <td>2015.0</td>\n",
       "      <td>Disney</td>\n",
       "      <td>2053311220</td>\n",
       "      <td>936662225</td>\n",
       "    </tr>\n",
       "    <tr>\n",
       "      <th>6</th>\n",
       "      <td>Avengers: Infinity War</td>\n",
       "      <td>Action,Adventure,Sci-Fi</td>\n",
       "      <td>2018.0</td>\n",
       "      <td>Disney</td>\n",
       "      <td>2048134200</td>\n",
       "      <td>678815482</td>\n",
       "    </tr>\n",
       "    <tr>\n",
       "      <th>34</th>\n",
       "      <td>Jurassic World</td>\n",
       "      <td>Action,Adventure,Sci-Fi</td>\n",
       "      <td>2015.0</td>\n",
       "      <td>Universal</td>\n",
       "      <td>1648854864</td>\n",
       "      <td>652270625</td>\n",
       "    </tr>\n",
       "    <tr>\n",
       "      <th>85</th>\n",
       "      <td>Furious 7</td>\n",
       "      <td>Action,Crime,Thriller</td>\n",
       "      <td>2015.0</td>\n",
       "      <td>Universal</td>\n",
       "      <td>1518722794</td>\n",
       "      <td>353007020</td>\n",
       "    </tr>\n",
       "    <tr>\n",
       "      <th>26</th>\n",
       "      <td>The Avengers</td>\n",
       "      <td>Action,Adventure,Sci-Fi</td>\n",
       "      <td>2012.0</td>\n",
       "      <td>Disney</td>\n",
       "      <td>1517935897</td>\n",
       "      <td>623279547</td>\n",
       "    </tr>\n",
       "    <tr>\n",
       "      <th>3</th>\n",
       "      <td>Avengers: Age of Ultron</td>\n",
       "      <td>Action,Adventure,Sci-Fi</td>\n",
       "      <td>2015.0</td>\n",
       "      <td>Disney</td>\n",
       "      <td>1403013963</td>\n",
       "      <td>459005868</td>\n",
       "    </tr>\n",
       "    <tr>\n",
       "      <th>53</th>\n",
       "      <td>Black Panther</td>\n",
       "      <td>Action,Adventure,Sci-Fi</td>\n",
       "      <td>2018.0</td>\n",
       "      <td>Disney</td>\n",
       "      <td>1348258224</td>\n",
       "      <td>700059566</td>\n",
       "    </tr>\n",
       "    <tr>\n",
       "      <th>388</th>\n",
       "      <td>Harry Potter and the Deathly Hallows: Part II</td>\n",
       "      <td>Action,Adventure,Sci-Fi</td>\n",
       "      <td>2011.0</td>\n",
       "      <td>Warner Bros</td>\n",
       "      <td>1341693157</td>\n",
       "      <td>381193157</td>\n",
       "    </tr>\n",
       "    <tr>\n",
       "      <th>4</th>\n",
       "      <td>Star Wars Ep. VIII: The Last Jedi</td>\n",
       "      <td>Action,Adventure,Sci-Fi</td>\n",
       "      <td>2017.0</td>\n",
       "      <td>Disney</td>\n",
       "      <td>1316721747</td>\n",
       "      <td>620181382</td>\n",
       "    </tr>\n",
       "    <tr>\n",
       "      <th>149</th>\n",
       "      <td>Jurassic World: Fallen Kingdom</td>\n",
       "      <td>Action,Adventure,Sci-Fi</td>\n",
       "      <td>2018.0</td>\n",
       "      <td>Universal</td>\n",
       "      <td>1305772799</td>\n",
       "      <td>417719760</td>\n",
       "    </tr>\n",
       "    <tr>\n",
       "      <th>201</th>\n",
       "      <td>Frozen</td>\n",
       "      <td>Adventure,Drama,Sport</td>\n",
       "      <td>2013.0</td>\n",
       "      <td>Disney</td>\n",
       "      <td>1272469910</td>\n",
       "      <td>400738009</td>\n",
       "    </tr>\n",
       "    <tr>\n",
       "      <th>172</th>\n",
       "      <td>Beauty and the Beast</td>\n",
       "      <td>Drama,Fantasy,Romance</td>\n",
       "      <td>2017.0</td>\n",
       "      <td>Disney</td>\n",
       "      <td>1259199706</td>\n",
       "      <td>504014165</td>\n",
       "    </tr>\n",
       "    <tr>\n",
       "      <th>56</th>\n",
       "      <td>Incredibles 2</td>\n",
       "      <td>Action,Adventure,Animation</td>\n",
       "      <td>2018.0</td>\n",
       "      <td>Disney</td>\n",
       "      <td>1242520711</td>\n",
       "      <td>608581744</td>\n",
       "    </tr>\n",
       "    <tr>\n",
       "      <th>22</th>\n",
       "      <td>The Fate of the Furious</td>\n",
       "      <td>Action,Crime,Thriller</td>\n",
       "      <td>2017.0</td>\n",
       "      <td>Universal</td>\n",
       "      <td>1234846267</td>\n",
       "      <td>225764765</td>\n",
       "    </tr>\n",
       "    <tr>\n",
       "      <th>60</th>\n",
       "      <td>Iron Man 3</td>\n",
       "      <td>Action,Adventure,Sci-Fi</td>\n",
       "      <td>2013.0</td>\n",
       "      <td>Disney</td>\n",
       "      <td>1215392272</td>\n",
       "      <td>408992272</td>\n",
       "    </tr>\n",
       "    <tr>\n",
       "      <th>909</th>\n",
       "      <td>Minions</td>\n",
       "      <td>Adventure,Animation,Comedy</td>\n",
       "      <td>2015.0</td>\n",
       "      <td>Universal</td>\n",
       "      <td>1160336173</td>\n",
       "      <td>336045770</td>\n",
       "    </tr>\n",
       "    <tr>\n",
       "      <th>178</th>\n",
       "      <td>Aquaman</td>\n",
       "      <td>Action,Adventure,Fantasy</td>\n",
       "      <td>2018.0</td>\n",
       "      <td>Warner Bros</td>\n",
       "      <td>1146894640</td>\n",
       "      <td>335061807</td>\n",
       "    </tr>\n",
       "    <tr>\n",
       "      <th>16</th>\n",
       "      <td>Captain America: Civil War</td>\n",
       "      <td>Action,Adventure,Sci-Fi</td>\n",
       "      <td>2016.0</td>\n",
       "      <td>Disney</td>\n",
       "      <td>1140069413</td>\n",
       "      <td>408084349</td>\n",
       "    </tr>\n",
       "    <tr>\n",
       "      <th>81</th>\n",
       "      <td>Transformers: Dark of the Moon</td>\n",
       "      <td>Action,Adventure,Sci-Fi</td>\n",
       "      <td>2011.0</td>\n",
       "      <td>DreamWorks</td>\n",
       "      <td>1123790543</td>\n",
       "      <td>352390543</td>\n",
       "    </tr>\n",
       "    <tr>\n",
       "      <th>69</th>\n",
       "      <td>Skyfall</td>\n",
       "      <td>Action,Adventure,Thriller</td>\n",
       "      <td>2012.0</td>\n",
       "      <td>Sony</td>\n",
       "      <td>1110526981</td>\n",
       "      <td>304360277</td>\n",
       "    </tr>\n",
       "    <tr>\n",
       "      <th>37</th>\n",
       "      <td>Transformers: Age of Extinction</td>\n",
       "      <td>Action,Adventure,Sci-Fi</td>\n",
       "      <td>2014.0</td>\n",
       "      <td>Paramount</td>\n",
       "      <td>1104039076</td>\n",
       "      <td>245439076</td>\n",
       "    </tr>\n",
       "  </tbody>\n",
       "</table>\n",
       "</div>"
      ],
      "text/plain": [
       "                                             title  \\\n",
       "0                                           Avatar   \n",
       "5             Star Wars Ep. VII: The Force Awakens   \n",
       "6                           Avengers: Infinity War   \n",
       "34                                  Jurassic World   \n",
       "85                                       Furious 7   \n",
       "26                                    The Avengers   \n",
       "3                          Avengers: Age of Ultron   \n",
       "53                                   Black Panther   \n",
       "388  Harry Potter and the Deathly Hallows: Part II   \n",
       "4                Star Wars Ep. VIII: The Last Jedi   \n",
       "149                 Jurassic World: Fallen Kingdom   \n",
       "201                                         Frozen   \n",
       "172                           Beauty and the Beast   \n",
       "56                                   Incredibles 2   \n",
       "22                         The Fate of the Furious   \n",
       "60                                      Iron Man 3   \n",
       "909                                        Minions   \n",
       "178                                        Aquaman   \n",
       "16                      Captain America: Civil War   \n",
       "81                  Transformers: Dark of the Moon   \n",
       "69                                         Skyfall   \n",
       "37                 Transformers: Age of Extinction   \n",
       "\n",
       "                         genres    year            studio  worldwide_gross  \\\n",
       "0       Action,Adventure,Sci-Fi  2009.0  20th Century Fox       2776345279   \n",
       "5       Action,Adventure,Sci-Fi  2015.0            Disney       2053311220   \n",
       "6       Action,Adventure,Sci-Fi  2018.0            Disney       2048134200   \n",
       "34      Action,Adventure,Sci-Fi  2015.0         Universal       1648854864   \n",
       "85        Action,Crime,Thriller  2015.0         Universal       1518722794   \n",
       "26      Action,Adventure,Sci-Fi  2012.0            Disney       1517935897   \n",
       "3       Action,Adventure,Sci-Fi  2015.0            Disney       1403013963   \n",
       "53      Action,Adventure,Sci-Fi  2018.0            Disney       1348258224   \n",
       "388     Action,Adventure,Sci-Fi  2011.0       Warner Bros       1341693157   \n",
       "4       Action,Adventure,Sci-Fi  2017.0            Disney       1316721747   \n",
       "149     Action,Adventure,Sci-Fi  2018.0         Universal       1305772799   \n",
       "201       Adventure,Drama,Sport  2013.0            Disney       1272469910   \n",
       "172       Drama,Fantasy,Romance  2017.0            Disney       1259199706   \n",
       "56   Action,Adventure,Animation  2018.0            Disney       1242520711   \n",
       "22        Action,Crime,Thriller  2017.0         Universal       1234846267   \n",
       "60      Action,Adventure,Sci-Fi  2013.0            Disney       1215392272   \n",
       "909  Adventure,Animation,Comedy  2015.0         Universal       1160336173   \n",
       "178    Action,Adventure,Fantasy  2018.0       Warner Bros       1146894640   \n",
       "16      Action,Adventure,Sci-Fi  2016.0            Disney       1140069413   \n",
       "81      Action,Adventure,Sci-Fi  2011.0        DreamWorks       1123790543   \n",
       "69    Action,Adventure,Thriller  2012.0              Sony       1110526981   \n",
       "37      Action,Adventure,Sci-Fi  2014.0         Paramount       1104039076   \n",
       "\n",
       "     domestic_gross  \n",
       "0         760507625  \n",
       "5         936662225  \n",
       "6         678815482  \n",
       "34        652270625  \n",
       "85        353007020  \n",
       "26        623279547  \n",
       "3         459005868  \n",
       "53        700059566  \n",
       "388       381193157  \n",
       "4         620181382  \n",
       "149       417719760  \n",
       "201       400738009  \n",
       "172       504014165  \n",
       "56        608581744  \n",
       "22        225764765  \n",
       "60        408992272  \n",
       "909       336045770  \n",
       "178       335061807  \n",
       "16        408084349  \n",
       "81        352390543  \n",
       "69        304360277  \n",
       "37        245439076  "
      ]
     },
     "execution_count": 37,
     "metadata": {},
     "output_type": "execute_result"
    }
   ],
   "source": [
    "df_replace_na_select = df_replace_na_select[df_replace_na_select['year'] >= 2008]\n",
    "# df_replace_na_select['year'] > 2008\n",
    "df_replace_na_select"
   ]
  },
  {
   "cell_type": "code",
   "execution_count": 38,
   "metadata": {},
   "outputs": [
    {
     "data": {
      "text/html": [
       "<div>\n",
       "<style scoped>\n",
       "    .dataframe tbody tr th:only-of-type {\n",
       "        vertical-align: middle;\n",
       "    }\n",
       "\n",
       "    .dataframe tbody tr th {\n",
       "        vertical-align: top;\n",
       "    }\n",
       "\n",
       "    .dataframe thead th {\n",
       "        text-align: right;\n",
       "    }\n",
       "</style>\n",
       "<table border=\"1\" class=\"dataframe\">\n",
       "  <thead>\n",
       "    <tr style=\"text-align: right;\">\n",
       "      <th></th>\n",
       "      <th>title</th>\n",
       "      <th>genres</th>\n",
       "      <th>year</th>\n",
       "      <th>studio</th>\n",
       "      <th>worldwide_gross</th>\n",
       "      <th>domestic_gross</th>\n",
       "    </tr>\n",
       "  </thead>\n",
       "  <tbody>\n",
       "    <tr>\n",
       "      <th>0</th>\n",
       "      <td>Avatar</td>\n",
       "      <td>Action,Adventure,Sci-Fi</td>\n",
       "      <td>2009.0</td>\n",
       "      <td>20th Century Fox</td>\n",
       "      <td>2776345279</td>\n",
       "      <td>760507625</td>\n",
       "    </tr>\n",
       "    <tr>\n",
       "      <th>5</th>\n",
       "      <td>Star Wars Ep. VII: The Force Awakens</td>\n",
       "      <td>Action,Adventure,Sci-Fi</td>\n",
       "      <td>2015.0</td>\n",
       "      <td>Disney</td>\n",
       "      <td>2053311220</td>\n",
       "      <td>936662225</td>\n",
       "    </tr>\n",
       "    <tr>\n",
       "      <th>6</th>\n",
       "      <td>Avengers: Infinity War</td>\n",
       "      <td>Action,Adventure,Sci-Fi</td>\n",
       "      <td>2018.0</td>\n",
       "      <td>Disney</td>\n",
       "      <td>2048134200</td>\n",
       "      <td>678815482</td>\n",
       "    </tr>\n",
       "    <tr>\n",
       "      <th>34</th>\n",
       "      <td>Jurassic World</td>\n",
       "      <td>Action,Adventure,Sci-Fi</td>\n",
       "      <td>2015.0</td>\n",
       "      <td>Universal</td>\n",
       "      <td>1648854864</td>\n",
       "      <td>652270625</td>\n",
       "    </tr>\n",
       "    <tr>\n",
       "      <th>85</th>\n",
       "      <td>Furious 7</td>\n",
       "      <td>Action,Crime,Thriller</td>\n",
       "      <td>2015.0</td>\n",
       "      <td>Universal</td>\n",
       "      <td>1518722794</td>\n",
       "      <td>353007020</td>\n",
       "    </tr>\n",
       "    <tr>\n",
       "      <th>26</th>\n",
       "      <td>The Avengers</td>\n",
       "      <td>Action,Adventure,Sci-Fi</td>\n",
       "      <td>2012.0</td>\n",
       "      <td>Disney</td>\n",
       "      <td>1517935897</td>\n",
       "      <td>623279547</td>\n",
       "    </tr>\n",
       "    <tr>\n",
       "      <th>3</th>\n",
       "      <td>Avengers: Age of Ultron</td>\n",
       "      <td>Action,Adventure,Sci-Fi</td>\n",
       "      <td>2015.0</td>\n",
       "      <td>Disney</td>\n",
       "      <td>1403013963</td>\n",
       "      <td>459005868</td>\n",
       "    </tr>\n",
       "    <tr>\n",
       "      <th>53</th>\n",
       "      <td>Black Panther</td>\n",
       "      <td>Action,Adventure,Sci-Fi</td>\n",
       "      <td>2018.0</td>\n",
       "      <td>Disney</td>\n",
       "      <td>1348258224</td>\n",
       "      <td>700059566</td>\n",
       "    </tr>\n",
       "    <tr>\n",
       "      <th>388</th>\n",
       "      <td>Harry Potter and the Deathly Hallows: Part II</td>\n",
       "      <td>Action,Adventure,Sci-Fi</td>\n",
       "      <td>2011.0</td>\n",
       "      <td>Warner Bros</td>\n",
       "      <td>1341693157</td>\n",
       "      <td>381193157</td>\n",
       "    </tr>\n",
       "    <tr>\n",
       "      <th>4</th>\n",
       "      <td>Star Wars Ep. VIII: The Last Jedi</td>\n",
       "      <td>Action,Adventure,Sci-Fi</td>\n",
       "      <td>2017.0</td>\n",
       "      <td>Disney</td>\n",
       "      <td>1316721747</td>\n",
       "      <td>620181382</td>\n",
       "    </tr>\n",
       "    <tr>\n",
       "      <th>149</th>\n",
       "      <td>Jurassic World: Fallen Kingdom</td>\n",
       "      <td>Action,Adventure,Sci-Fi</td>\n",
       "      <td>2018.0</td>\n",
       "      <td>Universal</td>\n",
       "      <td>1305772799</td>\n",
       "      <td>417719760</td>\n",
       "    </tr>\n",
       "    <tr>\n",
       "      <th>201</th>\n",
       "      <td>Frozen</td>\n",
       "      <td>Adventure,Drama,Sport</td>\n",
       "      <td>2013.0</td>\n",
       "      <td>Disney</td>\n",
       "      <td>1272469910</td>\n",
       "      <td>400738009</td>\n",
       "    </tr>\n",
       "    <tr>\n",
       "      <th>172</th>\n",
       "      <td>Beauty and the Beast</td>\n",
       "      <td>Drama,Fantasy,Romance</td>\n",
       "      <td>2017.0</td>\n",
       "      <td>Disney</td>\n",
       "      <td>1259199706</td>\n",
       "      <td>504014165</td>\n",
       "    </tr>\n",
       "    <tr>\n",
       "      <th>56</th>\n",
       "      <td>Incredibles 2</td>\n",
       "      <td>Action,Adventure,Animation</td>\n",
       "      <td>2018.0</td>\n",
       "      <td>Disney</td>\n",
       "      <td>1242520711</td>\n",
       "      <td>608581744</td>\n",
       "    </tr>\n",
       "    <tr>\n",
       "      <th>22</th>\n",
       "      <td>The Fate of the Furious</td>\n",
       "      <td>Action,Crime,Thriller</td>\n",
       "      <td>2017.0</td>\n",
       "      <td>Universal</td>\n",
       "      <td>1234846267</td>\n",
       "      <td>225764765</td>\n",
       "    </tr>\n",
       "  </tbody>\n",
       "</table>\n",
       "</div>"
      ],
      "text/plain": [
       "                                             title  \\\n",
       "0                                           Avatar   \n",
       "5             Star Wars Ep. VII: The Force Awakens   \n",
       "6                           Avengers: Infinity War   \n",
       "34                                  Jurassic World   \n",
       "85                                       Furious 7   \n",
       "26                                    The Avengers   \n",
       "3                          Avengers: Age of Ultron   \n",
       "53                                   Black Panther   \n",
       "388  Harry Potter and the Deathly Hallows: Part II   \n",
       "4                Star Wars Ep. VIII: The Last Jedi   \n",
       "149                 Jurassic World: Fallen Kingdom   \n",
       "201                                         Frozen   \n",
       "172                           Beauty and the Beast   \n",
       "56                                   Incredibles 2   \n",
       "22                         The Fate of the Furious   \n",
       "\n",
       "                         genres    year            studio  worldwide_gross  \\\n",
       "0       Action,Adventure,Sci-Fi  2009.0  20th Century Fox       2776345279   \n",
       "5       Action,Adventure,Sci-Fi  2015.0            Disney       2053311220   \n",
       "6       Action,Adventure,Sci-Fi  2018.0            Disney       2048134200   \n",
       "34      Action,Adventure,Sci-Fi  2015.0         Universal       1648854864   \n",
       "85        Action,Crime,Thriller  2015.0         Universal       1518722794   \n",
       "26      Action,Adventure,Sci-Fi  2012.0            Disney       1517935897   \n",
       "3       Action,Adventure,Sci-Fi  2015.0            Disney       1403013963   \n",
       "53      Action,Adventure,Sci-Fi  2018.0            Disney       1348258224   \n",
       "388     Action,Adventure,Sci-Fi  2011.0       Warner Bros       1341693157   \n",
       "4       Action,Adventure,Sci-Fi  2017.0            Disney       1316721747   \n",
       "149     Action,Adventure,Sci-Fi  2018.0         Universal       1305772799   \n",
       "201       Adventure,Drama,Sport  2013.0            Disney       1272469910   \n",
       "172       Drama,Fantasy,Romance  2017.0            Disney       1259199706   \n",
       "56   Action,Adventure,Animation  2018.0            Disney       1242520711   \n",
       "22        Action,Crime,Thriller  2017.0         Universal       1234846267   \n",
       "\n",
       "     domestic_gross  \n",
       "0         760507625  \n",
       "5         936662225  \n",
       "6         678815482  \n",
       "34        652270625  \n",
       "85        353007020  \n",
       "26        623279547  \n",
       "3         459005868  \n",
       "53        700059566  \n",
       "388       381193157  \n",
       "4         620181382  \n",
       "149       417719760  \n",
       "201       400738009  \n",
       "172       504014165  \n",
       "56        608581744  \n",
       "22        225764765  "
      ]
     },
     "execution_count": 38,
     "metadata": {},
     "output_type": "execute_result"
    }
   ],
   "source": [
    "df_topwwg = df_replace_na_select.nlargest(15,'worldwide_gross') # top 25 films sorted by 'worldwide_gross'\n",
    "df_topwwg_select = df_topwwg[['title', 'genres', 'year', 'studio','worldwide_gross', 'domestic_gross']]\n",
    "df_topwwg_select"
   ]
  },
  {
   "cell_type": "code",
   "execution_count": null,
   "metadata": {},
   "outputs": [],
   "source": []
  },
  {
   "cell_type": "code",
   "execution_count": 39,
   "metadata": {},
   "outputs": [
    {
     "name": "stdout",
     "output_type": "stream",
     "text": [
      "<class 'pandas.core.frame.DataFrame'>\n",
      "Int64Index: 15 entries, 0 to 22\n",
      "Data columns (total 6 columns):\n",
      " #   Column           Non-Null Count  Dtype  \n",
      "---  ------           --------------  -----  \n",
      " 0   title            15 non-null     object \n",
      " 1   genres           15 non-null     object \n",
      " 2   year             15 non-null     float64\n",
      " 3   studio           15 non-null     object \n",
      " 4   worldwide_gross  15 non-null     int64  \n",
      " 5   domestic_gross   15 non-null     int64  \n",
      "dtypes: float64(1), int64(2), object(3)\n",
      "memory usage: 840.0+ bytes\n"
     ]
    }
   ],
   "source": [
    "df_select = df_topwwg_select.copy()\n",
    "df_select.info()"
   ]
  },
  {
   "cell_type": "code",
   "execution_count": 40,
   "metadata": {},
   "outputs": [
    {
     "data": {
      "image/png": "[encoded data removed]",
      "text/plain": [
       "<Figure size 720x864 with 1 Axes>"
      ]
     },
     "metadata": {
      "needs_background": "light"
     },
     "output_type": "display_data"
    }
   ],
   "source": [
    "# Create plot\n",
    "fig, ax = plt.subplots(figsize = (10,12))\n",
    "title = df_select['title']\n",
    "ww_gross = df_select['worldwide_gross']\n",
    "d_gross = df_select['domestic_gross']\n",
    "\n",
    "ax.set_title('Top Grossing Movies - 2010 - 2018')\n",
    "ax.set_xlabel('In Billions USD')\n",
    "\n",
    "orange_patch = mpatches.Patch(color='orange', label='domestic gross')\n",
    "plt.legend(handles=[orange_patch])\n",
    "teal_patch = mpatches.Patch(color='teal', label='worldwide gross')\n",
    "plt.legend(handles=[orange_patch, teal_patch])\n",
    "\n",
    "Domestic = ax.barh(title, ww_gross, color = 'teal')\n",
    "World = ax.barh(title, d_gross, color = 'orange')\n",
    "\n",
    "plt.savefig('images/top_grossing_movies.pdf', dpi=300, bbox_inches = \"tight\")\n",
    "plt.show();"
   ]
  },
  {
   "cell_type": "code",
   "execution_count": 41,
   "metadata": {},
   "outputs": [
    {
     "data": {
      "text/html": [
       "<div>\n",
       "<style scoped>\n",
       "    .dataframe tbody tr th:only-of-type {\n",
       "        vertical-align: middle;\n",
       "    }\n",
       "\n",
       "    .dataframe tbody tr th {\n",
       "        vertical-align: top;\n",
       "    }\n",
       "\n",
       "    .dataframe thead th {\n",
       "        text-align: right;\n",
       "    }\n",
       "</style>\n",
       "<table border=\"1\" class=\"dataframe\">\n",
       "  <thead>\n",
       "    <tr style=\"text-align: right;\">\n",
       "      <th></th>\n",
       "      <th>studio</th>\n",
       "      <th>year</th>\n",
       "      <th>worldwide_gross</th>\n",
       "      <th>domestic_gross</th>\n",
       "    </tr>\n",
       "  </thead>\n",
       "  <tbody>\n",
       "    <tr>\n",
       "      <th>1</th>\n",
       "      <td>Disney</td>\n",
       "      <td>18143.0</td>\n",
       "      <td>13461565578</td>\n",
       "      <td>5531337988</td>\n",
       "    </tr>\n",
       "    <tr>\n",
       "      <th>2</th>\n",
       "      <td>Universal</td>\n",
       "      <td>8065.0</td>\n",
       "      <td>5708196724</td>\n",
       "      <td>1648762170</td>\n",
       "    </tr>\n",
       "    <tr>\n",
       "      <th>0</th>\n",
       "      <td>20th Century Fox</td>\n",
       "      <td>2009.0</td>\n",
       "      <td>2776345279</td>\n",
       "      <td>760507625</td>\n",
       "    </tr>\n",
       "    <tr>\n",
       "      <th>3</th>\n",
       "      <td>Warner Bros</td>\n",
       "      <td>2011.0</td>\n",
       "      <td>1341693157</td>\n",
       "      <td>381193157</td>\n",
       "    </tr>\n",
       "  </tbody>\n",
       "</table>\n",
       "</div>"
      ],
      "text/plain": [
       "             studio     year  worldwide_gross  domestic_gross\n",
       "1            Disney  18143.0      13461565578      5531337988\n",
       "2         Universal   8065.0       5708196724      1648762170\n",
       "0  20th Century Fox   2009.0       2776345279       760507625\n",
       "3       Warner Bros   2011.0       1341693157       381193157"
      ]
     },
     "execution_count": 41,
     "metadata": {},
     "output_type": "execute_result"
    }
   ],
   "source": [
    "# Summed values for next chart\n",
    "sum_ups = df_select.groupby(['studio',]).sum('worldwide_gross').reset_index()\n",
    "sum_ups = sum_ups.sort_values('worldwide_gross', ascending = False)\n",
    "sum_ups"
   ]
  },
  {
   "cell_type": "code",
   "execution_count": 42,
   "metadata": {},
   "outputs": [
    {
     "data": {
      "image/png": "[encoded data removed]",
      "text/plain": [
       "<Figure size 720x432 with 1 Axes>"
      ]
     },
     "metadata": {
      "needs_background": "light"
     },
     "output_type": "display_data"
    }
   ],
   "source": [
    "fig, ax = plt.subplots(figsize = (10,6))\n",
    "studio = sum_ups['studio']\n",
    "ww_gross = sum_ups['worldwide_gross']\n",
    "d_gross = sum_ups['domestic_gross']\n",
    "\n",
    "World = ax.barh(studio, ww_gross, color = 'teal')\n",
    "Domestic = ax.barh(studio, d_gross, color = 'orange')\n",
    "\n",
    "ax.set_title('Top Grossing Movie Studios - 2010 - 2018')\n",
    "ax.set_xlabel('In Trillions USD')\n",
    "ax.set_ylabel('Studio')\n",
    "\n",
    "orange_patch = mpatches.Patch(color='orange', label='domestic gross')\n",
    "plt.legend(handles=[orange_patch])\n",
    "teal_patch = mpatches.Patch(color='teal', label='worldwide gross')\n",
    "plt.legend(handles=[orange_patch, teal_patch])\n",
    "          \n",
    "plt.savefig('images/top_grossing_movies_by_studio.pdf', dpi=300, bbox_inches = \"tight\")\n",
    "plt.show()"
   ]
  },
  {
   "cell_type": "code",
   "execution_count": null,
   "metadata": {},
   "outputs": [],
   "source": []
  },
  {
   "cell_type": "code",
   "execution_count": null,
   "metadata": {},
   "outputs": [],
   "source": []
  }
 ],
 "metadata": {
  "kernelspec": {
   "display_name": "Python (learn-env)",
   "language": "python",
   "name": "learn-env"
  },
  "language_info": {
   "codemirror_mode": {
    "name": "ipython",
    "version": 3
   },
   "file_extension": ".py",
   "mimetype": "text/x-python",
   "name": "python",
   "nbconvert_exporter": "python",
   "pygments_lexer": "ipython3",
   "version": "3.8.5"
  }
 },
 "nbformat": 4,
 "nbformat_minor": 4
}
